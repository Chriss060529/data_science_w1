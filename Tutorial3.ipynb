{
  "nbformat": 4,
  "nbformat_minor": 0,
  "metadata": {
    "colab": {
      "provenance": [],
      "authorship_tag": "ABX9TyMJdp477SqDWxkaIH5/cwhO",
      "include_colab_link": true
    },
    "kernelspec": {
      "name": "python3",
      "display_name": "Python 3"
    },
    "language_info": {
      "name": "python"
    }
  },
  "cells": [
    {
      "cell_type": "markdown",
      "metadata": {
        "id": "view-in-github",
        "colab_type": "text"
      },
      "source": [
        "<a href=\"https://colab.research.google.com/github/Chriss060529/data_science_w1/blob/main/Tutorial3.ipynb\" target=\"_parent\"><img src=\"https://colab.research.google.com/assets/colab-badge.svg\" alt=\"Open In Colab\"/></a>"
      ]
    },
    {
      "cell_type": "code",
      "execution_count": 7,
      "metadata": {
        "colab": {
          "base_uri": "https://localhost:8080/"
        },
        "id": "fN7ulAmcAD4O",
        "outputId": "68bd95b0-d120-423a-e5ea-6c0272a0885a"
      },
      "outputs": [
        {
          "output_type": "stream",
          "name": "stdout",
          "text": [
            "[[1 2]\n",
            " [3 4]]\n"
          ]
        }
      ],
      "source": [
        "import numpy as np\n",
        "\n",
        "q1 = np.array([[1,2],[3,4]])\n",
        "print(q1)"
      ]
    },
    {
      "cell_type": "code",
      "source": [
        "q2 = np.random.random((3,4))\n",
        "print(q2)"
      ],
      "metadata": {
        "colab": {
          "base_uri": "https://localhost:8080/"
        },
        "id": "CB2A_RmoAoJr",
        "outputId": "6db80833-d2c6-423d-afa2-bc0336b587e6"
      },
      "execution_count": 8,
      "outputs": [
        {
          "output_type": "stream",
          "name": "stdout",
          "text": [
            "[[0.46846721 0.01039148 0.09553329 0.4930502 ]\n",
            " [0.73601455 0.64215727 0.83865522 0.18590472]\n",
            " [0.10511866 0.93818839 0.98698076 0.13724983]]\n"
          ]
        }
      ]
    },
    {
      "cell_type": "code",
      "source": [
        "q3_ones = np.ones((2,3))\n",
        "q3_zeros = np.zeros((2,3))\n",
        "\n",
        "print(q3_ones)\n",
        "print(q3_zeros)"
      ],
      "metadata": {
        "colab": {
          "base_uri": "https://localhost:8080/"
        },
        "id": "JPjyexUwBtRa",
        "outputId": "0bd0607c-d74a-421e-fdfc-ff70df1aceb1"
      },
      "execution_count": 10,
      "outputs": [
        {
          "output_type": "stream",
          "name": "stdout",
          "text": [
            "[[1. 1. 1.]\n",
            " [1. 1. 1.]]\n",
            "[[0. 0. 0.]\n",
            " [0. 0. 0.]]\n"
          ]
        }
      ]
    },
    {
      "cell_type": "code",
      "source": [
        "q4 = np.random.random((6,3))\n",
        "print(q4)\n",
        "\n",
        "q4_transpose = q4.T\n",
        "print(q4_transpose)"
      ],
      "metadata": {
        "colab": {
          "base_uri": "https://localhost:8080/"
        },
        "id": "H3NtzQQbC9A6",
        "outputId": "dd3cf4ae-42f3-41d5-9438-0a56ee391377"
      },
      "execution_count": 13,
      "outputs": [
        {
          "output_type": "stream",
          "name": "stdout",
          "text": [
            "[[0.86573266 0.11448271 0.43536759]\n",
            " [0.92504129 0.50283757 0.86426156]\n",
            " [0.74591409 0.42434673 0.3079571 ]\n",
            " [0.88874421 0.65750421 0.80562148]\n",
            " [0.81503787 0.47703835 0.127667  ]\n",
            " [0.90706724 0.9461029  0.76527655]]\n",
            "[[0.86573266 0.92504129 0.74591409 0.88874421 0.81503787 0.90706724]\n",
            " [0.11448271 0.50283757 0.42434673 0.65750421 0.47703835 0.9461029 ]\n",
            " [0.43536759 0.86426156 0.3079571  0.80562148 0.127667   0.76527655]]\n"
          ]
        }
      ]
    },
    {
      "cell_type": "code",
      "source": [
        "q5a = np.random.random((2,3))\n",
        "q5b = np.random.random((3,1))\n",
        "\n",
        "print(q5a)\n",
        "print(q5b)\n",
        "\n",
        "q5_dot = np.dot(q5a, q5b)\n",
        "print(q5_dot)"
      ],
      "metadata": {
        "colab": {
          "base_uri": "https://localhost:8080/"
        },
        "id": "ecdbPpTRDZOl",
        "outputId": "10e3ffc0-7d8b-4df9-bc0d-cc3da577a5d0"
      },
      "execution_count": 18,
      "outputs": [
        {
          "output_type": "stream",
          "name": "stdout",
          "text": [
            "[[0.76610453 0.63402475 0.73837809]\n",
            " [0.55643638 0.23312747 0.65841255]]\n",
            "[[0.60754111]\n",
            " [0.26632542]\n",
            " [0.88489322]]\n",
            "[[1.28768267]\n",
            " [0.98277054]]\n"
          ]
        }
      ]
    }
  ]
}